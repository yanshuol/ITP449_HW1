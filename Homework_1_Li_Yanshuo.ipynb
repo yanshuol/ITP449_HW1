{
  "nbformat": 4,
  "nbformat_minor": 0,
  "metadata": {
    "colab": {
      "name": "“HW1_Li_Yanshuo.ipynb",
      "provenance": [],
      "collapsed_sections": []
    },
    "kernelspec": {
      "name": "python3",
      "display_name": "Python 3"
    }
  },
  "cells": [
    {
      "cell_type": "markdown",
      "metadata": {
        "id": "hm8RAKinXsIP"
      },
      "source": [
        "## **Homework 1**\n",
        "\n",
        "### Create a copy of the notebook to start answering the questions. Name your notebook in the format HW1_lastname_firstname.ipynb to facilitate the grading process. \n",
        "\n",
        "### Answer all the questions, test your code to ensure there are no errors and the results are as expected. Once you have answered all the questions, save the final copy, then go to File-> click on Download.ipynb. Once the local copy has been downloaded, submit your file on Blackboard under the corresponding assignment section. Also provide us a link to your notebook during submission. \n",
        "\n",
        "### **The due date of this homework is 02/05/2021 (Friday).**\n",
        "\n",
        "### Please ensure you follow all the steps mentioned in the homework.\n",
        "\n",
        "### All the questions have a sample input and output to help you understand the question. Please note that your programs will be tested for other sets of inputs and outputs along with the sample provided. So test your code for other inputs.\n",
        "\n",
        "### You can submit your solutions any number of times until the deadline.\n"
      ]
    },
    {
      "cell_type": "markdown",
      "metadata": {
        "id": "uacFrEaZfcfq"
      },
      "source": [
        "##### Q1. Write a program that prompts the user to enter a password then prints the length of the password.\n",
        "\n",
        "```\n",
        "Enter your password: hello\n",
        "Your password is 5 long.\n",
        "```\n",
        "\n",
        "\n"
      ]
    },
    {
      "cell_type": "code",
      "metadata": {
        "id": "avPyES14ftCt",
        "colab": {
          "base_uri": "https://localhost:8080/"
        },
        "outputId": "a285ea46-641c-4080-bf42-07b7dbc1f57e"
      },
      "source": [
        "# Type solution here\n",
        "num = input(\"Enter your password: \")\n",
        "counter = 0\n",
        "for word in num:\n",
        "  counter = counter + 1\n",
        "print(\"Your password is\", str(counter), \"long.\")"
      ],
      "execution_count": null,
      "outputs": [
        {
          "output_type": "stream",
          "text": [
            "Enter your password: password\n",
            "Your password is 8 long.\n"
          ],
          "name": "stdout"
        }
      ]
    },
    {
      "cell_type": "markdown",
      "metadata": {
        "id": "ekh-kABuItli"
      },
      "source": [
        ""
      ]
    },
    {
      "cell_type": "markdown",
      "metadata": {
        "id": "K1yko-xUItU3"
      },
      "source": [
        ""
      ]
    },
    {
      "cell_type": "markdown",
      "metadata": {
        "id": "behD0j_Of2TW"
      },
      "source": [
        "##### Q2. Write a program that prompts the user to enter their full name then prints the number of characters in their name (do not count spaces).\n",
        "\n",
        "```\n",
        "What is your name? Amulya Katti\n",
        "Amulya Katti your name has 11 characters.\n",
        "```"
      ]
    },
    {
      "cell_type": "code",
      "metadata": {
        "id": "XSdIRjwlhSlu",
        "colab": {
          "base_uri": "https://localhost:8080/"
        },
        "outputId": "2f6508df-4301-4222-d835-c0b266818ddf"
      },
      "source": [
        "# Type solution here\n",
        "name = input(\"What is your name? \")\n",
        "counter = 0\n",
        "for word in name:\n",
        "  if word != \" \":\n",
        "    counter = counter + 1\n",
        "  else:\n",
        "    counter = counter\n",
        "print(str(name), \"your name has\", str(counter), \"characters.\")"
      ],
      "execution_count": null,
      "outputs": [
        {
          "output_type": "stream",
          "text": [
            "What is your name? Barry Allen\n",
            "Barry Allen your name has 10 characters.\n"
          ],
          "name": "stdout"
        }
      ]
    },
    {
      "cell_type": "markdown",
      "metadata": {
        "id": "5KHOWF6FhVHV"
      },
      "source": [
        "##### Q3. Write a program that prompts the user to enter a month (as a number), then prints the name of the month and the number of days in that month. Ensure that the user inputs a valid month and handle any error cases.\n",
        "\n",
        "```\n",
        "Enter the month number: 9\n",
        "September has 30 days\n",
        "```"
      ]
    },
    {
      "cell_type": "code",
      "metadata": {
        "id": "KhS-SAEThyTG",
        "colab": {
          "base_uri": "https://localhost:8080/"
        },
        "outputId": "ef4ef75e-46b0-4e9d-b701-b93133879794"
      },
      "source": [
        "# Type solution here\n",
        "year = {'1':\"January\",'2':\"February\",'3':\"March\",'4':\"April\",'5':\"May\",'6':\"June\",'7':\"July\",'8':\"August\",'9':\"September\",'10':\"October\",'11':\"November\",'12':\"December\"}\n",
        "month = input(\"Enter the month number: \")\n",
        "while month not in year:\n",
        "  print(\"Invalid input. Please enter a valid month as digit.\")\n",
        "  month = input(\"Enter the month number: \")\n",
        "if int(month) == 2:\n",
        "  print(year[month], \"has 28 days.\")\n",
        "elif int(month) % 2 == 1 and int(month) < 8:\n",
        "  print(year[month], \"has 31 days.\")\n",
        "elif int(month) % 2 == 1 and int(month) >= 8:\n",
        "  print(year[month], \"has 30 days.\")\n",
        "elif int(month) % 2 == 0 and int(month) < 8:\n",
        "  print(year[month], \"has 30 days.\")\n",
        "elif int(month) % 2 == 0 and int(month) >= 8:\n",
        "  print(year[month], \"has 31 days.\")"
      ],
      "execution_count": 47,
      "outputs": [
        {
          "output_type": "stream",
          "text": [
            "Enter the month number: 7\n",
            "July has 31 days.\n"
          ],
          "name": "stdout"
        }
      ]
    },
    {
      "cell_type": "markdown",
      "metadata": {
        "id": "O7lnAdGlh6Xa"
      },
      "source": [
        "##### Q4. Write a program that prompts the user to enter a loan amount, annual interest rate, and number of years  for a car loan. Then calculate and print the monthly payment amount.\n",
        "\n",
        "Note:\n",
        "```\n",
        "PMT= [PV*i*((1+i)^n)]/[((1+i)^n)-1]\n",
        "```\n",
        "PMT is the monthly payment\n",
        "\n",
        "PV is the loan amount\n",
        "\n",
        "i is the interest rate per month in decimal form (interest rate percentage divided by 12)\n",
        "\n",
        "n is the number of months (term of the loan in months)\n",
        "\n",
        "```\n",
        "Loan Amount: 30000.00\n",
        "Annual Interest Rate: 4.00\n",
        "Years: 5\n",
        "Your monthly payment is: $552.50\n",
        "```"
      ]
    },
    {
      "cell_type": "code",
      "metadata": {
        "id": "p4B5JH5GiTs9",
        "colab": {
          "base_uri": "https://localhost:8080/"
        },
        "outputId": "d316f9dd-f8c6-4046-fdc0-d19a50534678"
      },
      "source": [
        "# Type solution here\n",
        "pv = input(\"Loan Amount: \")\n",
        "a = input(\"Annual Interest Rate: \")\n",
        "y = input(\"Years: \")\n",
        "i = int(a)/1200\n",
        "n = int(y)*12\n",
        "b = 1+i\n",
        "c = b**n\n",
        "pmt = (float(pv) * float(i) * (float(1 + i) ** n))/((float(1 + i) ** n) - 1)\n",
        "print(\"Your monthly payment is: $\", str(pmt))"
      ],
      "execution_count": 48,
      "outputs": [
        {
          "output_type": "stream",
          "text": [
            "Loan Amount: 30000\n",
            "Annual Interest Rate: 4\n",
            "Years: 5\n",
            "Your monthly payment is: $ 552.4956616579791\n"
          ],
          "name": "stdout"
        }
      ]
    },
    {
      "cell_type": "markdown",
      "metadata": {
        "id": "SjiolJKgiWV-"
      },
      "source": [
        "##### Q5. Write a program to that prompts the user to enter a string. Then check whether or not the string is a palindrome.\n",
        "\n",
        "```\n",
        "Enter a string: Madam\n",
        "Madam, is a palindrome!\n",
        "```"
      ]
    },
    {
      "cell_type": "code",
      "metadata": {
        "id": "F5_M934Ri0es",
        "colab": {
          "base_uri": "https://localhost:8080/"
        },
        "outputId": "0e5bfbe4-49f5-4784-a810-686f3067298f"
      },
      "source": [
        "# Type solution here\n",
        "word = input(\"Enter a string: \")\n",
        "reverse = word[::-1]\n",
        "if reverse.lower() == word.lower():\n",
        "  print(str(word), \"is a palindrome!\")\n",
        "else:\n",
        "  print(str(word), \"is not a palindrome!\")"
      ],
      "execution_count": 45,
      "outputs": [
        {
          "output_type": "stream",
          "text": [
            "Enter a string: Barry\n",
            "Barry is not a palindrome!\n"
          ],
          "name": "stdout"
        }
      ]
    },
    {
      "cell_type": "markdown",
      "metadata": {
        "id": "BLBD6n9vkJEu"
      },
      "source": [
        "##### Q6. Write a program to compute and print all possible combinations of change for \\$1. Denominations to be considered – quarter, dime, nickel, penny.\n",
        "\n",
        "Hint: Use nested loops (loops within loops for the various denominations of coins)\n",
        "\n",
        "```\n",
        "Change for $1:\n",
        "0 quarters, 0 dimes, 0 nickels, 100 pennies\n",
        "…\n",
        "4 quarters, 0 dimes, 0 nickels, 0 pennies\n",
        "```"
      ]
    },
    {
      "cell_type": "code",
      "metadata": {
        "id": "kAQsTjwDkZZ5",
        "colab": {
          "base_uri": "https://localhost:8080/"
        },
        "outputId": "b6806c85-807f-4867-ca0c-2cd2693af87b"
      },
      "source": [
        "# Type solution here\n",
        "print(\"Change for $1:\")\n",
        "pennies = 0\n",
        "nickels = 0\n",
        "dimes = 0\n",
        "quarters = 0\n",
        "for pennies in range(0,101):\n",
        "  for nickels in range(0,21):\n",
        "    for dimes in range(0,11):\n",
        "      for quarters in range(0,5):\n",
        "        if quarters*25 + dimes*10 + nickels*5 + pennies*1 == 100:\n",
        "          result = quarters, \"quarters\", dimes, \"dimes\", nickels, \"nickels\", pennies,\"pennies\"\n",
        "          print(result)\n"
      ],
      "execution_count": 59,
      "outputs": [
        {
          "output_type": "stream",
          "text": [
            "Change for $1:\n",
            "(4, 'quarters', 0, 'dimes', 0, 'nickels', 0, 'pennies')\n",
            "(2, 'quarters', 5, 'dimes', 0, 'nickels', 0, 'pennies')\n",
            "(0, 'quarters', 10, 'dimes', 0, 'nickels', 0, 'pennies')\n",
            "(3, 'quarters', 2, 'dimes', 1, 'nickels', 0, 'pennies')\n",
            "(1, 'quarters', 7, 'dimes', 1, 'nickels', 0, 'pennies')\n",
            "(2, 'quarters', 4, 'dimes', 2, 'nickels', 0, 'pennies')\n",
            "(0, 'quarters', 9, 'dimes', 2, 'nickels', 0, 'pennies')\n",
            "(3, 'quarters', 1, 'dimes', 3, 'nickels', 0, 'pennies')\n",
            "(1, 'quarters', 6, 'dimes', 3, 'nickels', 0, 'pennies')\n",
            "(2, 'quarters', 3, 'dimes', 4, 'nickels', 0, 'pennies')\n",
            "(0, 'quarters', 8, 'dimes', 4, 'nickels', 0, 'pennies')\n",
            "(3, 'quarters', 0, 'dimes', 5, 'nickels', 0, 'pennies')\n",
            "(1, 'quarters', 5, 'dimes', 5, 'nickels', 0, 'pennies')\n",
            "(2, 'quarters', 2, 'dimes', 6, 'nickels', 0, 'pennies')\n",
            "(0, 'quarters', 7, 'dimes', 6, 'nickels', 0, 'pennies')\n",
            "(1, 'quarters', 4, 'dimes', 7, 'nickels', 0, 'pennies')\n",
            "(2, 'quarters', 1, 'dimes', 8, 'nickels', 0, 'pennies')\n",
            "(0, 'quarters', 6, 'dimes', 8, 'nickels', 0, 'pennies')\n",
            "(1, 'quarters', 3, 'dimes', 9, 'nickels', 0, 'pennies')\n",
            "(2, 'quarters', 0, 'dimes', 10, 'nickels', 0, 'pennies')\n",
            "(0, 'quarters', 5, 'dimes', 10, 'nickels', 0, 'pennies')\n",
            "(1, 'quarters', 2, 'dimes', 11, 'nickels', 0, 'pennies')\n",
            "(0, 'quarters', 4, 'dimes', 12, 'nickels', 0, 'pennies')\n",
            "(1, 'quarters', 1, 'dimes', 13, 'nickels', 0, 'pennies')\n",
            "(0, 'quarters', 3, 'dimes', 14, 'nickels', 0, 'pennies')\n",
            "(1, 'quarters', 0, 'dimes', 15, 'nickels', 0, 'pennies')\n",
            "(0, 'quarters', 2, 'dimes', 16, 'nickels', 0, 'pennies')\n",
            "(0, 'quarters', 1, 'dimes', 18, 'nickels', 0, 'pennies')\n",
            "(0, 'quarters', 0, 'dimes', 20, 'nickels', 0, 'pennies')\n",
            "(3, 'quarters', 2, 'dimes', 0, 'nickels', 5, 'pennies')\n",
            "(1, 'quarters', 7, 'dimes', 0, 'nickels', 5, 'pennies')\n",
            "(2, 'quarters', 4, 'dimes', 1, 'nickels', 5, 'pennies')\n",
            "(0, 'quarters', 9, 'dimes', 1, 'nickels', 5, 'pennies')\n",
            "(3, 'quarters', 1, 'dimes', 2, 'nickels', 5, 'pennies')\n",
            "(1, 'quarters', 6, 'dimes', 2, 'nickels', 5, 'pennies')\n",
            "(2, 'quarters', 3, 'dimes', 3, 'nickels', 5, 'pennies')\n",
            "(0, 'quarters', 8, 'dimes', 3, 'nickels', 5, 'pennies')\n",
            "(3, 'quarters', 0, 'dimes', 4, 'nickels', 5, 'pennies')\n",
            "(1, 'quarters', 5, 'dimes', 4, 'nickels', 5, 'pennies')\n",
            "(2, 'quarters', 2, 'dimes', 5, 'nickels', 5, 'pennies')\n",
            "(0, 'quarters', 7, 'dimes', 5, 'nickels', 5, 'pennies')\n",
            "(1, 'quarters', 4, 'dimes', 6, 'nickels', 5, 'pennies')\n",
            "(2, 'quarters', 1, 'dimes', 7, 'nickels', 5, 'pennies')\n",
            "(0, 'quarters', 6, 'dimes', 7, 'nickels', 5, 'pennies')\n",
            "(1, 'quarters', 3, 'dimes', 8, 'nickels', 5, 'pennies')\n",
            "(2, 'quarters', 0, 'dimes', 9, 'nickels', 5, 'pennies')\n",
            "(0, 'quarters', 5, 'dimes', 9, 'nickels', 5, 'pennies')\n",
            "(1, 'quarters', 2, 'dimes', 10, 'nickels', 5, 'pennies')\n",
            "(0, 'quarters', 4, 'dimes', 11, 'nickels', 5, 'pennies')\n",
            "(1, 'quarters', 1, 'dimes', 12, 'nickels', 5, 'pennies')\n",
            "(0, 'quarters', 3, 'dimes', 13, 'nickels', 5, 'pennies')\n",
            "(1, 'quarters', 0, 'dimes', 14, 'nickels', 5, 'pennies')\n",
            "(0, 'quarters', 2, 'dimes', 15, 'nickels', 5, 'pennies')\n",
            "(0, 'quarters', 1, 'dimes', 17, 'nickels', 5, 'pennies')\n",
            "(0, 'quarters', 0, 'dimes', 19, 'nickels', 5, 'pennies')\n",
            "(2, 'quarters', 4, 'dimes', 0, 'nickels', 10, 'pennies')\n",
            "(0, 'quarters', 9, 'dimes', 0, 'nickels', 10, 'pennies')\n",
            "(3, 'quarters', 1, 'dimes', 1, 'nickels', 10, 'pennies')\n",
            "(1, 'quarters', 6, 'dimes', 1, 'nickels', 10, 'pennies')\n",
            "(2, 'quarters', 3, 'dimes', 2, 'nickels', 10, 'pennies')\n",
            "(0, 'quarters', 8, 'dimes', 2, 'nickels', 10, 'pennies')\n",
            "(3, 'quarters', 0, 'dimes', 3, 'nickels', 10, 'pennies')\n",
            "(1, 'quarters', 5, 'dimes', 3, 'nickels', 10, 'pennies')\n",
            "(2, 'quarters', 2, 'dimes', 4, 'nickels', 10, 'pennies')\n",
            "(0, 'quarters', 7, 'dimes', 4, 'nickels', 10, 'pennies')\n",
            "(1, 'quarters', 4, 'dimes', 5, 'nickels', 10, 'pennies')\n",
            "(2, 'quarters', 1, 'dimes', 6, 'nickels', 10, 'pennies')\n",
            "(0, 'quarters', 6, 'dimes', 6, 'nickels', 10, 'pennies')\n",
            "(1, 'quarters', 3, 'dimes', 7, 'nickels', 10, 'pennies')\n",
            "(2, 'quarters', 0, 'dimes', 8, 'nickels', 10, 'pennies')\n",
            "(0, 'quarters', 5, 'dimes', 8, 'nickels', 10, 'pennies')\n",
            "(1, 'quarters', 2, 'dimes', 9, 'nickels', 10, 'pennies')\n",
            "(0, 'quarters', 4, 'dimes', 10, 'nickels', 10, 'pennies')\n",
            "(1, 'quarters', 1, 'dimes', 11, 'nickels', 10, 'pennies')\n",
            "(0, 'quarters', 3, 'dimes', 12, 'nickels', 10, 'pennies')\n",
            "(1, 'quarters', 0, 'dimes', 13, 'nickels', 10, 'pennies')\n",
            "(0, 'quarters', 2, 'dimes', 14, 'nickels', 10, 'pennies')\n",
            "(0, 'quarters', 1, 'dimes', 16, 'nickels', 10, 'pennies')\n",
            "(0, 'quarters', 0, 'dimes', 18, 'nickels', 10, 'pennies')\n",
            "(3, 'quarters', 1, 'dimes', 0, 'nickels', 15, 'pennies')\n",
            "(1, 'quarters', 6, 'dimes', 0, 'nickels', 15, 'pennies')\n",
            "(2, 'quarters', 3, 'dimes', 1, 'nickels', 15, 'pennies')\n",
            "(0, 'quarters', 8, 'dimes', 1, 'nickels', 15, 'pennies')\n",
            "(3, 'quarters', 0, 'dimes', 2, 'nickels', 15, 'pennies')\n",
            "(1, 'quarters', 5, 'dimes', 2, 'nickels', 15, 'pennies')\n",
            "(2, 'quarters', 2, 'dimes', 3, 'nickels', 15, 'pennies')\n",
            "(0, 'quarters', 7, 'dimes', 3, 'nickels', 15, 'pennies')\n",
            "(1, 'quarters', 4, 'dimes', 4, 'nickels', 15, 'pennies')\n",
            "(2, 'quarters', 1, 'dimes', 5, 'nickels', 15, 'pennies')\n",
            "(0, 'quarters', 6, 'dimes', 5, 'nickels', 15, 'pennies')\n",
            "(1, 'quarters', 3, 'dimes', 6, 'nickels', 15, 'pennies')\n",
            "(2, 'quarters', 0, 'dimes', 7, 'nickels', 15, 'pennies')\n",
            "(0, 'quarters', 5, 'dimes', 7, 'nickels', 15, 'pennies')\n",
            "(1, 'quarters', 2, 'dimes', 8, 'nickels', 15, 'pennies')\n",
            "(0, 'quarters', 4, 'dimes', 9, 'nickels', 15, 'pennies')\n",
            "(1, 'quarters', 1, 'dimes', 10, 'nickels', 15, 'pennies')\n",
            "(0, 'quarters', 3, 'dimes', 11, 'nickels', 15, 'pennies')\n",
            "(1, 'quarters', 0, 'dimes', 12, 'nickels', 15, 'pennies')\n",
            "(0, 'quarters', 2, 'dimes', 13, 'nickels', 15, 'pennies')\n",
            "(0, 'quarters', 1, 'dimes', 15, 'nickels', 15, 'pennies')\n",
            "(0, 'quarters', 0, 'dimes', 17, 'nickels', 15, 'pennies')\n",
            "(2, 'quarters', 3, 'dimes', 0, 'nickels', 20, 'pennies')\n",
            "(0, 'quarters', 8, 'dimes', 0, 'nickels', 20, 'pennies')\n",
            "(3, 'quarters', 0, 'dimes', 1, 'nickels', 20, 'pennies')\n",
            "(1, 'quarters', 5, 'dimes', 1, 'nickels', 20, 'pennies')\n",
            "(2, 'quarters', 2, 'dimes', 2, 'nickels', 20, 'pennies')\n",
            "(0, 'quarters', 7, 'dimes', 2, 'nickels', 20, 'pennies')\n",
            "(1, 'quarters', 4, 'dimes', 3, 'nickels', 20, 'pennies')\n",
            "(2, 'quarters', 1, 'dimes', 4, 'nickels', 20, 'pennies')\n",
            "(0, 'quarters', 6, 'dimes', 4, 'nickels', 20, 'pennies')\n",
            "(1, 'quarters', 3, 'dimes', 5, 'nickels', 20, 'pennies')\n",
            "(2, 'quarters', 0, 'dimes', 6, 'nickels', 20, 'pennies')\n",
            "(0, 'quarters', 5, 'dimes', 6, 'nickels', 20, 'pennies')\n",
            "(1, 'quarters', 2, 'dimes', 7, 'nickels', 20, 'pennies')\n",
            "(0, 'quarters', 4, 'dimes', 8, 'nickels', 20, 'pennies')\n",
            "(1, 'quarters', 1, 'dimes', 9, 'nickels', 20, 'pennies')\n",
            "(0, 'quarters', 3, 'dimes', 10, 'nickels', 20, 'pennies')\n",
            "(1, 'quarters', 0, 'dimes', 11, 'nickels', 20, 'pennies')\n",
            "(0, 'quarters', 2, 'dimes', 12, 'nickels', 20, 'pennies')\n",
            "(0, 'quarters', 1, 'dimes', 14, 'nickels', 20, 'pennies')\n",
            "(0, 'quarters', 0, 'dimes', 16, 'nickels', 20, 'pennies')\n",
            "(3, 'quarters', 0, 'dimes', 0, 'nickels', 25, 'pennies')\n",
            "(1, 'quarters', 5, 'dimes', 0, 'nickels', 25, 'pennies')\n",
            "(2, 'quarters', 2, 'dimes', 1, 'nickels', 25, 'pennies')\n",
            "(0, 'quarters', 7, 'dimes', 1, 'nickels', 25, 'pennies')\n",
            "(1, 'quarters', 4, 'dimes', 2, 'nickels', 25, 'pennies')\n",
            "(2, 'quarters', 1, 'dimes', 3, 'nickels', 25, 'pennies')\n",
            "(0, 'quarters', 6, 'dimes', 3, 'nickels', 25, 'pennies')\n",
            "(1, 'quarters', 3, 'dimes', 4, 'nickels', 25, 'pennies')\n",
            "(2, 'quarters', 0, 'dimes', 5, 'nickels', 25, 'pennies')\n",
            "(0, 'quarters', 5, 'dimes', 5, 'nickels', 25, 'pennies')\n",
            "(1, 'quarters', 2, 'dimes', 6, 'nickels', 25, 'pennies')\n",
            "(0, 'quarters', 4, 'dimes', 7, 'nickels', 25, 'pennies')\n",
            "(1, 'quarters', 1, 'dimes', 8, 'nickels', 25, 'pennies')\n",
            "(0, 'quarters', 3, 'dimes', 9, 'nickels', 25, 'pennies')\n",
            "(1, 'quarters', 0, 'dimes', 10, 'nickels', 25, 'pennies')\n",
            "(0, 'quarters', 2, 'dimes', 11, 'nickels', 25, 'pennies')\n",
            "(0, 'quarters', 1, 'dimes', 13, 'nickels', 25, 'pennies')\n",
            "(0, 'quarters', 0, 'dimes', 15, 'nickels', 25, 'pennies')\n",
            "(2, 'quarters', 2, 'dimes', 0, 'nickels', 30, 'pennies')\n",
            "(0, 'quarters', 7, 'dimes', 0, 'nickels', 30, 'pennies')\n",
            "(1, 'quarters', 4, 'dimes', 1, 'nickels', 30, 'pennies')\n",
            "(2, 'quarters', 1, 'dimes', 2, 'nickels', 30, 'pennies')\n",
            "(0, 'quarters', 6, 'dimes', 2, 'nickels', 30, 'pennies')\n",
            "(1, 'quarters', 3, 'dimes', 3, 'nickels', 30, 'pennies')\n",
            "(2, 'quarters', 0, 'dimes', 4, 'nickels', 30, 'pennies')\n",
            "(0, 'quarters', 5, 'dimes', 4, 'nickels', 30, 'pennies')\n",
            "(1, 'quarters', 2, 'dimes', 5, 'nickels', 30, 'pennies')\n",
            "(0, 'quarters', 4, 'dimes', 6, 'nickels', 30, 'pennies')\n",
            "(1, 'quarters', 1, 'dimes', 7, 'nickels', 30, 'pennies')\n",
            "(0, 'quarters', 3, 'dimes', 8, 'nickels', 30, 'pennies')\n",
            "(1, 'quarters', 0, 'dimes', 9, 'nickels', 30, 'pennies')\n",
            "(0, 'quarters', 2, 'dimes', 10, 'nickels', 30, 'pennies')\n",
            "(0, 'quarters', 1, 'dimes', 12, 'nickels', 30, 'pennies')\n",
            "(0, 'quarters', 0, 'dimes', 14, 'nickels', 30, 'pennies')\n",
            "(1, 'quarters', 4, 'dimes', 0, 'nickels', 35, 'pennies')\n",
            "(2, 'quarters', 1, 'dimes', 1, 'nickels', 35, 'pennies')\n",
            "(0, 'quarters', 6, 'dimes', 1, 'nickels', 35, 'pennies')\n",
            "(1, 'quarters', 3, 'dimes', 2, 'nickels', 35, 'pennies')\n",
            "(2, 'quarters', 0, 'dimes', 3, 'nickels', 35, 'pennies')\n",
            "(0, 'quarters', 5, 'dimes', 3, 'nickels', 35, 'pennies')\n",
            "(1, 'quarters', 2, 'dimes', 4, 'nickels', 35, 'pennies')\n",
            "(0, 'quarters', 4, 'dimes', 5, 'nickels', 35, 'pennies')\n",
            "(1, 'quarters', 1, 'dimes', 6, 'nickels', 35, 'pennies')\n",
            "(0, 'quarters', 3, 'dimes', 7, 'nickels', 35, 'pennies')\n",
            "(1, 'quarters', 0, 'dimes', 8, 'nickels', 35, 'pennies')\n",
            "(0, 'quarters', 2, 'dimes', 9, 'nickels', 35, 'pennies')\n",
            "(0, 'quarters', 1, 'dimes', 11, 'nickels', 35, 'pennies')\n",
            "(0, 'quarters', 0, 'dimes', 13, 'nickels', 35, 'pennies')\n",
            "(2, 'quarters', 1, 'dimes', 0, 'nickels', 40, 'pennies')\n",
            "(0, 'quarters', 6, 'dimes', 0, 'nickels', 40, 'pennies')\n",
            "(1, 'quarters', 3, 'dimes', 1, 'nickels', 40, 'pennies')\n",
            "(2, 'quarters', 0, 'dimes', 2, 'nickels', 40, 'pennies')\n",
            "(0, 'quarters', 5, 'dimes', 2, 'nickels', 40, 'pennies')\n",
            "(1, 'quarters', 2, 'dimes', 3, 'nickels', 40, 'pennies')\n",
            "(0, 'quarters', 4, 'dimes', 4, 'nickels', 40, 'pennies')\n",
            "(1, 'quarters', 1, 'dimes', 5, 'nickels', 40, 'pennies')\n",
            "(0, 'quarters', 3, 'dimes', 6, 'nickels', 40, 'pennies')\n",
            "(1, 'quarters', 0, 'dimes', 7, 'nickels', 40, 'pennies')\n",
            "(0, 'quarters', 2, 'dimes', 8, 'nickels', 40, 'pennies')\n",
            "(0, 'quarters', 1, 'dimes', 10, 'nickels', 40, 'pennies')\n",
            "(0, 'quarters', 0, 'dimes', 12, 'nickels', 40, 'pennies')\n",
            "(1, 'quarters', 3, 'dimes', 0, 'nickels', 45, 'pennies')\n",
            "(2, 'quarters', 0, 'dimes', 1, 'nickels', 45, 'pennies')\n",
            "(0, 'quarters', 5, 'dimes', 1, 'nickels', 45, 'pennies')\n",
            "(1, 'quarters', 2, 'dimes', 2, 'nickels', 45, 'pennies')\n",
            "(0, 'quarters', 4, 'dimes', 3, 'nickels', 45, 'pennies')\n",
            "(1, 'quarters', 1, 'dimes', 4, 'nickels', 45, 'pennies')\n",
            "(0, 'quarters', 3, 'dimes', 5, 'nickels', 45, 'pennies')\n",
            "(1, 'quarters', 0, 'dimes', 6, 'nickels', 45, 'pennies')\n",
            "(0, 'quarters', 2, 'dimes', 7, 'nickels', 45, 'pennies')\n",
            "(0, 'quarters', 1, 'dimes', 9, 'nickels', 45, 'pennies')\n",
            "(0, 'quarters', 0, 'dimes', 11, 'nickels', 45, 'pennies')\n",
            "(2, 'quarters', 0, 'dimes', 0, 'nickels', 50, 'pennies')\n",
            "(0, 'quarters', 5, 'dimes', 0, 'nickels', 50, 'pennies')\n",
            "(1, 'quarters', 2, 'dimes', 1, 'nickels', 50, 'pennies')\n",
            "(0, 'quarters', 4, 'dimes', 2, 'nickels', 50, 'pennies')\n",
            "(1, 'quarters', 1, 'dimes', 3, 'nickels', 50, 'pennies')\n",
            "(0, 'quarters', 3, 'dimes', 4, 'nickels', 50, 'pennies')\n",
            "(1, 'quarters', 0, 'dimes', 5, 'nickels', 50, 'pennies')\n",
            "(0, 'quarters', 2, 'dimes', 6, 'nickels', 50, 'pennies')\n",
            "(0, 'quarters', 1, 'dimes', 8, 'nickels', 50, 'pennies')\n",
            "(0, 'quarters', 0, 'dimes', 10, 'nickels', 50, 'pennies')\n",
            "(1, 'quarters', 2, 'dimes', 0, 'nickels', 55, 'pennies')\n",
            "(0, 'quarters', 4, 'dimes', 1, 'nickels', 55, 'pennies')\n",
            "(1, 'quarters', 1, 'dimes', 2, 'nickels', 55, 'pennies')\n",
            "(0, 'quarters', 3, 'dimes', 3, 'nickels', 55, 'pennies')\n",
            "(1, 'quarters', 0, 'dimes', 4, 'nickels', 55, 'pennies')\n",
            "(0, 'quarters', 2, 'dimes', 5, 'nickels', 55, 'pennies')\n",
            "(0, 'quarters', 1, 'dimes', 7, 'nickels', 55, 'pennies')\n",
            "(0, 'quarters', 0, 'dimes', 9, 'nickels', 55, 'pennies')\n",
            "(0, 'quarters', 4, 'dimes', 0, 'nickels', 60, 'pennies')\n",
            "(1, 'quarters', 1, 'dimes', 1, 'nickels', 60, 'pennies')\n",
            "(0, 'quarters', 3, 'dimes', 2, 'nickels', 60, 'pennies')\n",
            "(1, 'quarters', 0, 'dimes', 3, 'nickels', 60, 'pennies')\n",
            "(0, 'quarters', 2, 'dimes', 4, 'nickels', 60, 'pennies')\n",
            "(0, 'quarters', 1, 'dimes', 6, 'nickels', 60, 'pennies')\n",
            "(0, 'quarters', 0, 'dimes', 8, 'nickels', 60, 'pennies')\n",
            "(1, 'quarters', 1, 'dimes', 0, 'nickels', 65, 'pennies')\n",
            "(0, 'quarters', 3, 'dimes', 1, 'nickels', 65, 'pennies')\n",
            "(1, 'quarters', 0, 'dimes', 2, 'nickels', 65, 'pennies')\n",
            "(0, 'quarters', 2, 'dimes', 3, 'nickels', 65, 'pennies')\n",
            "(0, 'quarters', 1, 'dimes', 5, 'nickels', 65, 'pennies')\n",
            "(0, 'quarters', 0, 'dimes', 7, 'nickels', 65, 'pennies')\n",
            "(0, 'quarters', 3, 'dimes', 0, 'nickels', 70, 'pennies')\n",
            "(1, 'quarters', 0, 'dimes', 1, 'nickels', 70, 'pennies')\n",
            "(0, 'quarters', 2, 'dimes', 2, 'nickels', 70, 'pennies')\n",
            "(0, 'quarters', 1, 'dimes', 4, 'nickels', 70, 'pennies')\n",
            "(0, 'quarters', 0, 'dimes', 6, 'nickels', 70, 'pennies')\n",
            "(1, 'quarters', 0, 'dimes', 0, 'nickels', 75, 'pennies')\n",
            "(0, 'quarters', 2, 'dimes', 1, 'nickels', 75, 'pennies')\n",
            "(0, 'quarters', 1, 'dimes', 3, 'nickels', 75, 'pennies')\n",
            "(0, 'quarters', 0, 'dimes', 5, 'nickels', 75, 'pennies')\n",
            "(0, 'quarters', 2, 'dimes', 0, 'nickels', 80, 'pennies')\n",
            "(0, 'quarters', 1, 'dimes', 2, 'nickels', 80, 'pennies')\n",
            "(0, 'quarters', 0, 'dimes', 4, 'nickels', 80, 'pennies')\n",
            "(0, 'quarters', 1, 'dimes', 1, 'nickels', 85, 'pennies')\n",
            "(0, 'quarters', 0, 'dimes', 3, 'nickels', 85, 'pennies')\n",
            "(0, 'quarters', 1, 'dimes', 0, 'nickels', 90, 'pennies')\n",
            "(0, 'quarters', 0, 'dimes', 2, 'nickels', 90, 'pennies')\n",
            "(0, 'quarters', 0, 'dimes', 1, 'nickels', 95, 'pennies')\n",
            "(0, 'quarters', 0, 'dimes', 0, 'nickels', 100, 'pennies')\n"
          ],
          "name": "stdout"
        }
      ]
    },
    {
      "cell_type": "markdown",
      "metadata": {
        "id": "rUPDjYiIkbgs"
      },
      "source": [
        "##### Q7. Ask the user to enter two positive integers between 1 and 100. Read those integers. Then output a multiplication table of the first number times the second number. \n",
        "\n",
        "Note: You have to ensure the entered numbers are between 1 and 100 only.\n",
        "\n",
        "```\n",
        "Please enter an integer: 5\n",
        "Please enter another integer: 20\n",
        "5 x 1 = 5\n",
        "5 x 2 = 10\n",
        "5 x 3 = 15\n",
        "…\n",
        "5 x 20 = 100\n",
        "```"
      ]
    },
    {
      "cell_type": "code",
      "metadata": {
        "id": "Qg0Orv1klHzA",
        "colab": {
          "base_uri": "https://localhost:8080/"
        },
        "outputId": "4088f40d-c250-4f9a-b5a6-15e552906f10"
      },
      "source": [
        "# Type solution here\n",
        "int1 = int(input(\"Please enter an integer: \"))\n",
        "int2 = int(input(\"Please enter another integer: \"))\n",
        "counter = 0\n",
        "status = 1\n",
        "while status == 1:\n",
        "  if int1 >= 1 and int1 <= 100 and int2 >= 1 and int2<= 100:\n",
        "    while counter < int2:\n",
        "      counter = counter + 1\n",
        "      print(int1, \"×\", counter, \"=\", int1*counter)\n",
        "      status = 0\n",
        "  else:\n",
        "    print(\"Invalid number, please enter again.\")\n",
        "    int1 = int(input(\"Please enter an integer: \"))\n",
        "    int2 = int(input(\"Please enter another integer: \"))"
      ],
      "execution_count": 53,
      "outputs": [
        {
          "output_type": "stream",
          "text": [
            "Please enter an integer: 101\n",
            "Please enter another integer: 1\n",
            "Invalid number, please enter again.\n",
            "Please enter an integer: 5\n",
            "Please enter another integer: 20\n",
            "5 × 1 = 5\n",
            "5 × 2 = 10\n",
            "5 × 3 = 15\n",
            "5 × 4 = 20\n",
            "5 × 5 = 25\n",
            "5 × 6 = 30\n",
            "5 × 7 = 35\n",
            "5 × 8 = 40\n",
            "5 × 9 = 45\n",
            "5 × 10 = 50\n",
            "5 × 11 = 55\n",
            "5 × 12 = 60\n",
            "5 × 13 = 65\n",
            "5 × 14 = 70\n",
            "5 × 15 = 75\n",
            "5 × 16 = 80\n",
            "5 × 17 = 85\n",
            "5 × 18 = 90\n",
            "5 × 19 = 95\n",
            "5 × 20 = 100\n"
          ],
          "name": "stdout"
        }
      ]
    },
    {
      "cell_type": "markdown",
      "metadata": {
        "id": "SbnbPUPTlLD9"
      },
      "source": [
        "##### Q8. Write a program to ask the user to enter a password. Then check to see if it is a valid password based on these requirements -\n",
        "\n",
        "Must be at least 8 characters long\n",
        "\n",
        "Must contain both uppercase and lowercase letters\n",
        "\n",
        "Must contain at least one number between 0-9\n",
        "\n",
        "Must contain a special character -!,@,#,$\n",
        "\n",
        "If the password is not valid, ask the user to re-enter. This should continue until the user enters a valid password. After a valid password is entered, print Access Granted!\n",
        "\n",
        "```\n",
        "Please enter a password. Follow these requirements - \n",
        "a. Must be at least 8 characters long\n",
        "b. Must contain both uppercase and lowercase letters\n",
        "c. Must contain at least one number between 0-9\n",
        "d. Must contain a special character -!,@,#,$\n",
        "Password: HelloWorld1\n",
        "Invalid password. Try again!\n",
        "Password: Hello@World1\n",
        "Access Granted!\n",
        "```\n"
      ]
    },
    {
      "cell_type": "code",
      "metadata": {
        "id": "OXmZ177Rl-RV",
        "colab": {
          "base_uri": "https://localhost:8080/"
        },
        "outputId": "78d606f5-e0ae-4819-cd49-c6c779ee1bef"
      },
      "source": [
        "# Type solution here\n",
        "print(\"Please enter a password. Follow these requirements -:\")\n",
        "print(\"a. Must be at least 8 characters long\")\n",
        "print(\"b. Must contain both uppercase and lowercase letters\")\n",
        "print(\"c. Must contain at least one number between 0-9\")\n",
        "print(\"d. Must contain a special character -!,@,#,$\")\n",
        "password = input(\"Password: \")\n",
        "list = [\"!\",\"@\",\"#\",\"$\"]\n",
        "if len(password) >= 8:\n",
        "  if password != password.lower() and password != password.upper():\n",
        "    for character in password:\n",
        "      if character in list:\n",
        "        result1 = True\n",
        "    for character in password:\n",
        "      if character.isdigit():\n",
        "        result2 = True\n",
        "    if result1 == True and result2 ==True:\n",
        "      print(\"Access Granted!\")\n",
        "    else:\n",
        "      print(\"Invalid password. Try again!\")\n",
        "      password = input(\"Password: \")\n",
        "  else:\n",
        "    print(\"Invalid password. Try again!\")\n",
        "    password = input(\"Password: \")\n",
        "else:\n",
        "  print(\"Invalid password. Try again!\")\n",
        "  password = input(\"Password: \")"
      ],
      "execution_count": 3,
      "outputs": [
        {
          "output_type": "stream",
          "text": [
            "Please enter a password. Follow these requirements -:\n",
            "a. Must be at least 8 characters long\n",
            "b. Must contain both uppercase and lowercase letters\n",
            "c. Must contain at least one number between 0-9\n",
            "d. Must contain a special character -!,@,#,$\n",
            "Password: Hello@World1\n",
            "Access Granted!\n"
          ],
          "name": "stdout"
        }
      ]
    },
    {
      "cell_type": "markdown",
      "metadata": {
        "id": "-0sdutTDnTKA"
      },
      "source": [
        "##### Q9. Given the score sheet of participants in a competition, you are required to find the runner-up score. You are given scores in a list. Find the score of the runner-up.\n",
        "\n",
        "```\n",
        "list1 - [2, 3, 6, 6, 5]\n",
        "runner_up - 5\n",
        "\n",
        "list2 - [1, 7, 5, 3, 10, 4, 5, 5, 6, 11]\n",
        "runner_up - 10\n",
        "```"
      ]
    },
    {
      "cell_type": "code",
      "metadata": {
        "id": "12YP9OaqpGRK",
        "colab": {
          "base_uri": "https://localhost:8080/"
        },
        "outputId": "126bc492-107e-4676-b3d6-17e3731dd97e"
      },
      "source": [
        "# Type solution here\n",
        "list1 = [\"2\",\"3\",\"6\",\"6\",\"5\"]\n",
        "print(\"Current list is [2, 3, 6, 6, 5]\")\n",
        "question = input(\"Do you want to add new item in list? (y/n)\")\n",
        "state = 1\n",
        "while state == 1:\n",
        "  if question == \"y\":\n",
        "    item = input(\"Enter your item to the list: \")\n",
        "    list1.append(item)\n",
        "    question = input(\"Do you want to add new item in list? (y/n)\")\n",
        "  elif question == \"n\":\n",
        "    max = 0\n",
        "    for item in list1:\n",
        "      if int(item) >= int(max):\n",
        "        max = item\n",
        "      else:\n",
        "        max = max\n",
        "    num = list1.count(max)\n",
        "    list1.sort()\n",
        "    print(\"Current list is\", list1)\n",
        "    print(\"runner_up -\", str(list1[len(list1)-num-1]))\n",
        "    state = 0\n",
        "  else:\n",
        "    print(\"Invalid input.\")"
      ],
      "execution_count": 44,
      "outputs": [
        {
          "output_type": "stream",
          "text": [
            "Current list is [2, 3, 6, 6, 5]\n",
            "Do you want to add new item in list? (y/n)y\n",
            "Enter your item to the list: 7\n",
            "Do you want to add new item in list? (y/n)y\n",
            "Enter your item to the list: 8\n",
            "Do you want to add new item in list? (y/n)n\n",
            "Current list is ['2', '3', '5', '6', '6', '7', '8']\n",
            "runner_up - 7\n"
          ],
          "name": "stdout"
        }
      ]
    }
  ]
}